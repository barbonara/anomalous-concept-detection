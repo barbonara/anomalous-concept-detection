{
 "cells": [
  {
   "cell_type": "code",
   "execution_count": 1,
   "metadata": {},
   "outputs": [
    {
     "name": "stdout",
     "output_type": "stream",
     "text": [
      "They adore coffee. - positive\n",
      "She fancys coffee. - positive\n",
      "It hatees sunshine. - negative\n",
      "Nobody cherishs exercise. - positive\n",
      "We adore chocolate. - positive\n",
      "You relish dogs. - positive\n",
      "Nobody fancys movies. - positive\n",
      "She dislikes fashion. - negative\n",
      "We admire movies. - positive\n",
      "You cherish work. - positive\n"
     ]
    }
   ],
   "source": [
    "import random\n",
    "\n",
    "# Define components\n",
    "pronouns_singular = [\"I\", \"You\", \"He\", \"She\", \"It\", \"Someone\", \"Everyone\", \"Nobody\"]\n",
    "pronouns_plural = [\"We\", \"They\"]\n",
    "positive_verbs_singular = [\"love\", \"like\", \"enjoy\", \"appreciate\", \"adore\", \"cherish\", \"admire\", \"relish\", \"fancy\", \"savor\"]\n",
    "positive_verbs_plural = [verb + \"s\" if verb != \"enjoy\" else verb + \"es\" for verb in positive_verbs_singular]\n",
    "negative_verbs_singular = [\"hate\", \"dislike\", \"detest\", \"loathe\", \"despise\", \"abhor\", \"resent\", \"disdain\", \"regret\", \"dread\"]\n",
    "negative_verbs_plural = [verb + \"s\" if verb != \"hate\" else verb + \"es\" for verb in negative_verbs_singular]\n",
    "nouns = [\"dogs\", \"cats\", \"technology\", \"music\", \"sports\", \"food\", \"movies\", \"books\", \"rain\", \"sunshine\", \"art\", \"science\", \"nature\", \"travel\", \"fashion\", \"coffee\", \"tea\", \"work\", \"exercise\", \"chocolate\"]\n",
    "\n",
    "# Function to generate sentences\n",
    "def generate_sentences(pronouns_singular, pronouns_plural, verbs_singular, verbs_plural, nouns, label):\n",
    "    sentences = []\n",
    "    for pronoun in pronouns_singular:\n",
    "        for verb, verb_plural in zip(verbs_singular, verbs_plural):\n",
    "            for noun in nouns:\n",
    "                if pronoun in [\"I\", \"You\"]:\n",
    "                    sentence = f\"{pronoun} {verb} {noun}.\"\n",
    "                else:\n",
    "                    sentence = f\"{pronoun} {verb_plural} {noun}.\"\n",
    "                sentences.append((sentence, label))\n",
    "    for pronoun in pronouns_plural:\n",
    "        for verb in verbs_singular:  # Use singular verbs for plural pronouns\n",
    "            for noun in nouns:\n",
    "                sentence = f\"{pronoun} {verb} {noun}.\"\n",
    "                sentences.append((sentence, label))\n",
    "    return sentences\n",
    "\n",
    "# Generate positive and negative sentences\n",
    "positive_sentences = generate_sentences(pronouns_singular, pronouns_plural, positive_verbs_singular, positive_verbs_plural, nouns, \"positive\")\n",
    "negative_sentences = generate_sentences(pronouns_singular, pronouns_plural, negative_verbs_singular, negative_verbs_plural, nouns, \"negative\")\n",
    "\n",
    "# Combine and shuffle the dataset\n",
    "dataset = positive_sentences + negative_sentences\n",
    "random.shuffle(dataset)\n",
    "\n",
    "# Print some examples\n",
    "for sentence, label in dataset[:10]:\n",
    "    print(f\"{sentence} - {label}\")\n",
    "\n",
    "# Optional: Save to a file\n",
    "# with open('sentiment_dataset.txt', 'w') as f:\n",
    "#     for sentence, label in dataset:\n",
    "#         f.write(f\"{sentence}\\t{label}\\n\")\n"
   ]
  },
  {
   "cell_type": "code",
   "execution_count": 2,
   "metadata": {},
   "outputs": [
    {
     "name": "stdout",
     "output_type": "stream",
     "text": [
      "('They adore coffee.', 'positive')\n"
     ]
    }
   ],
   "source": [
    "print(dataset[0])"
   ]
  }
 ],
 "metadata": {
  "kernelspec": {
   "display_name": "base",
   "language": "python",
   "name": "python3"
  },
  "language_info": {
   "codemirror_mode": {
    "name": "ipython",
    "version": 3
   },
   "file_extension": ".py",
   "mimetype": "text/x-python",
   "name": "python",
   "nbconvert_exporter": "python",
   "pygments_lexer": "ipython3",
   "version": "3.10.11"
  }
 },
 "nbformat": 4,
 "nbformat_minor": 2
}
