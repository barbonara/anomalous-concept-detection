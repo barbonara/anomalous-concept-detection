{
 "cells": [
  {
   "cell_type": "code",
   "execution_count": 9,
   "metadata": {},
   "outputs": [
    {
     "data": {
      "text/html": [
       "Finishing last run (ID:i8mdzawr) before initializing another..."
      ],
      "text/plain": [
       "<IPython.core.display.HTML object>"
      ]
     },
     "metadata": {},
     "output_type": "display_data"
    },
    {
     "data": {
      "text/html": [
       " View run <strong style=\"color:#cdcd00\">divine-meadow-8</strong> at: <a href='https://wandb.ai/paul-colognese/Exploring%20direction%20detector/runs/i8mdzawr' target=\"_blank\">https://wandb.ai/paul-colognese/Exploring%20direction%20detector/runs/i8mdzawr</a><br/> View project at: <a href='https://wandb.ai/paul-colognese/Exploring%20direction%20detector' target=\"_blank\">https://wandb.ai/paul-colognese/Exploring%20direction%20detector</a><br/>Synced 6 W&B file(s), 1 media file(s), 1 artifact file(s) and 0 other file(s)"
      ],
      "text/plain": [
       "<IPython.core.display.HTML object>"
      ]
     },
     "metadata": {},
     "output_type": "display_data"
    },
    {
     "data": {
      "text/html": [
       "Find logs at: <code>./wandb/run-20240502_155724-i8mdzawr/logs</code>"
      ],
      "text/plain": [
       "<IPython.core.display.HTML object>"
      ]
     },
     "metadata": {},
     "output_type": "display_data"
    },
    {
     "data": {
      "text/html": [
       "Successfully finished last run (ID:i8mdzawr). Initializing new run:<br/>"
      ],
      "text/plain": [
       "<IPython.core.display.HTML object>"
      ]
     },
     "metadata": {},
     "output_type": "display_data"
    },
    {
     "name": "stderr",
     "output_type": "stream",
     "text": [
      "huggingface/tokenizers: The current process just got forked, after parallelism has already been used. Disabling parallelism to avoid deadlocks...\n",
      "To disable this warning, you can either:\n",
      "\t- Avoid using `tokenizers` before the fork if possible\n",
      "\t- Explicitly set the environment variable TOKENIZERS_PARALLELISM=(true | false)\n"
     ]
    },
    {
     "data": {
      "text/html": [
       "Tracking run with wandb version 0.16.6"
      ],
      "text/plain": [
       "<IPython.core.display.HTML object>"
      ]
     },
     "metadata": {},
     "output_type": "display_data"
    },
    {
     "data": {
      "text/html": [
       "Run data is saved locally in <code>/Users/paul/Projects/anomalous-concept-detection/wandb/run-20240502_160358-0agk5tl5</code>"
      ],
      "text/plain": [
       "<IPython.core.display.HTML object>"
      ]
     },
     "metadata": {},
     "output_type": "display_data"
    },
    {
     "data": {
      "text/html": [
       "Syncing run <strong><a href='https://wandb.ai/paul-colognese/Exploring%20direction%20detector/runs/0agk5tl5' target=\"_blank\">balmy-leaf-9</a></strong> to <a href='https://wandb.ai/paul-colognese/Exploring%20direction%20detector' target=\"_blank\">Weights & Biases</a> (<a href='https://wandb.me/run' target=\"_blank\">docs</a>)<br/>"
      ],
      "text/plain": [
       "<IPython.core.display.HTML object>"
      ]
     },
     "metadata": {},
     "output_type": "display_data"
    },
    {
     "data": {
      "text/html": [
       " View project at <a href='https://wandb.ai/paul-colognese/Exploring%20direction%20detector' target=\"_blank\">https://wandb.ai/paul-colognese/Exploring%20direction%20detector</a>"
      ],
      "text/plain": [
       "<IPython.core.display.HTML object>"
      ]
     },
     "metadata": {},
     "output_type": "display_data"
    },
    {
     "data": {
      "text/html": [
       " View run at <a href='https://wandb.ai/paul-colognese/Exploring%20direction%20detector/runs/0agk5tl5' target=\"_blank\">https://wandb.ai/paul-colognese/Exploring%20direction%20detector/runs/0agk5tl5</a>"
      ],
      "text/plain": [
       "<IPython.core.display.HTML object>"
      ]
     },
     "metadata": {},
     "output_type": "display_data"
    },
    {
     "name": "stdout",
     "output_type": "stream",
     "text": [
      "Processing batch 1/1\n",
      "Processing batch 1/1\n",
      "Processing batch 1/1\n"
     ]
    },
    {
     "data": {
      "image/png": "[encoded data removed]",
      "text/plain": [
       "<Figure size 1000x500 with 1 Axes>"
      ]
     },
     "metadata": {},
     "output_type": "display_data"
    },
    {
     "name": "stdout",
     "output_type": "stream",
     "text": [
      "Accuracy for layer Layer_0: 0.50%\n",
      "Accuracy for layer Layer_1: 0.50%\n",
      "Accuracy for layer Layer_2: 0.50%\n",
      "Accuracy for layer Layer_3: 0.88%\n",
      "Accuracy for layer Layer_4: 0.81%\n",
      "Accuracy for layer Layer_5: 0.81%\n",
      "Accuracy for layer Layer_6: 1.00%\n",
      "Accuracy for layer Layer_7: 0.81%\n",
      "Accuracy for layer Layer_8: 0.81%\n",
      "Accuracy for layer Layer_9: 0.81%\n",
      "Accuracy for layer Layer_10: 0.69%\n",
      "Accuracy for layer Layer_11: 0.88%\n"
     ]
    }
   ],
   "source": [
    "import numpy as np\n",
    "import torch\n",
    "import random\n",
    "import pandas as pd\n",
    "from transformers import AutoTokenizer, AutoModelForCausalLM\n",
    "import matplotlib.pyplot as plt\n",
    "import os\n",
    "os.environ['PYTORCH_CUDA_ALLOC_CONF'] = 'max_split_size_mb:64'\n",
    "\n",
    "import utils\n",
    "\n",
    "import wandb\n",
    "wandb.init(project='Exploring direction detector', entity='paul-colognese')\n",
    "\n",
    "# Global variables\n",
    "num_test_samples = 16 # Number of samples to test the detector\n",
    "num_detector_samples = 16 # Number of samples to construct the detector\n",
    "batch_size = 128 # Batch size for detector construction\n",
    "max_length = None # If none, uses maximum length of the dataset\n",
    "model_name = \"openai-community/gpt2\" #\"meta-llama/Llama-2-7b-hf\"\n",
    "\n",
    "# Load model and dataset\n",
    "model = utils.HookedModel(model_name)\n",
    "model.set_layers(model.model.transformer.h)\n",
    "\n",
    "# Get dataset for constructing direction detector\n",
    "dataset = utils.Dataset()\n",
    "dataset.load_data('datasets/ilikecats_20000.csv', 'Animal', 'Non-Animal')\n",
    "\n",
    "# Get dataset for testing direction detector\n",
    "test_dataset = dataset = utils.Dataset()\n",
    "test_dataset.load_data('datasets/ilikecats_20000.csv', 'Animal', 'Non-Animal')\n",
    "test_data, labels = test_dataset.combine_dataset_get_labels(num_test_samples)\n",
    "\n",
    "# Configuration for wandb\n",
    "config = wandb.config\n",
    "config.batch_size = batch_size\n",
    "config.max_length = max_length  # Dynamically set based on dataset if needed\n",
    "config.num_test_samples = num_test_samples\n",
    "config.num_detector_samples = num_detector_samples\n",
    "config.model_name = model_name\n",
    "config.dataset_size = min(len(dataset), num_detector_samples) # Assuming dataset is iterable and has length\n",
    "\n",
    "# Construct direction detector vector\n",
    "animal_detection_vectors = model.calculate_detector_direction(dataset, num_detector_samples, max_length, batch_size)\n",
    "\n",
    "# Create test activations dataset\n",
    "test_activations = model.get_last_token_activations(test_data, max_tokens = max_length, batch_size = batch_size)\n",
    "\n",
    "# Evaluate detector\n",
    "accuracies = utils.evaluate_detector(test_activations, animal_detection_vectors, labels, model.layer_indices_to_track)\n",
    "# wandb.log(accuracies)\n",
    "# Log all accuracies at once in a structured format for a single plot per run\n",
    "accuracy_list = [{\"Layer\": layer_name, \"Accuracy\": accuracy} for layer_name, accuracy in accuracies.items()]\n",
    "wandb.log({\"Accuracy by Layer\": wandb.Table(dataframe=pd.DataFrame(accuracy_list))})\n",
    "\n",
    "for layer_name, accuracy in accuracies.items():\n",
    "    # wandb.log({layer_name: accuracy})\n",
    "    print(f\"Accuracy for layer {layer_name}: {accuracy:.2f}%\")"
   ]
  }
 ],
 "metadata": {
  "kernelspec": {
   "display_name": "acd",
   "language": "python",
   "name": "python3"
  },
  "language_info": {
   "codemirror_mode": {
    "name": "ipython",
    "version": 3
   },
   "file_extension": ".py",
   "mimetype": "text/x-python",
   "name": "python",
   "nbconvert_exporter": "python",
   "pygments_lexer": "ipython3",
   "version": "3.11.8"
  }
 },
 "nbformat": 4,
 "nbformat_minor": 2
}
