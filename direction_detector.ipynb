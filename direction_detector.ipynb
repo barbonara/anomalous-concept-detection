{
 "cells": [
  {
   "cell_type": "code",
   "execution_count": null,
   "metadata": {},
   "outputs": [],
   "source": [
    "import numpy as np\n",
    "import torch\n",
    "import random\n",
    "import pandas as pd\n",
    "from transformers import AutoTokenizer, AutoModelForCausalLM\n",
    "import matplotlib.pyplot as plt\n",
    "import os\n",
    "os.environ['PYTORCH_CUDA_ALLOC_CONF'] = 'max_split_size_mb:64'\n",
    "\n",
    "import utils\n",
    "\n",
    "import wandb\n",
    "wandb.init(project='Exploring direction detector', entity='paul-colognese')\n",
    "\n",
    "\n",
    "\n"
   ]
  },
  {
   "cell_type": "code",
   "execution_count": null,
   "metadata": {},
   "outputs": [],
   "source": [
    "# Global variable model:\n",
    "\n",
    "model_name = 'microsoft/Phi-3-mini-4k-instruct' #\"openai-community/gpt2-xl\" #\"meta-llama/Llama-2-7b-hf\" #openai-community/gpt2-xl # \n",
    "\n",
    "# Load model and dataset\n",
    "model = utils.HookedModel(model_name, True)\n",
    "model.set_layers(model.model.model.layers) # Depends on model! Typically model.model.model.layers"
   ]
  },
  {
   "cell_type": "code",
   "execution_count": null,
   "metadata": {},
   "outputs": [],
   "source": [
    "# Load data\n",
    "dataset_path = 'datasets/(non)animal_2000_gpt-4-turbo.csv' #'datasets/(non)animal_2000.csv' \n",
    "\n",
    "# Get dataset for constructing direction detector\n",
    "dataset = utils.Dataset()\n",
    "dataset.load_data(dataset_path, 'Animal', 'Non-Animal')"
   ]
  },
  {
   "cell_type": "code",
   "execution_count": null,
   "metadata": {},
   "outputs": [],
   "source": [
    "\n",
    "# Global variables after loading model and data \n",
    "num_test_samples = -1 # Number of samples to test the detector\n",
    "num_detector_samples = -1 # Number of samples to construct the detector\n",
    "batch_size = 16 # Batch size for detector construction. 256 works well for Phi3 on ilikecats\n",
    "max_length = None # If none, uses maximum length of the dataset\n",
    "\n",
    "# Get dataset for testing direction detector\n",
    "test_dataset = dataset = utils.Dataset()\n",
    "test_dataset.load_data(dataset_path, 'Animal', 'Non-Animal')\n",
    "test_data, labels = test_dataset.combine_dataset_get_labels(num_test_samples)\n",
    "\n",
    "# Configuration for wandb\n",
    "config = wandb.config\n",
    "config.batch_size = batch_size\n",
    "config.max_length = max_length  # Dynamically set based on dataset if needed\n",
    "config.num_test_samples = num_test_samples\n",
    "config.num_detector_samples = num_detector_samples\n",
    "config.model_name = model_name\n",
    "config.dataset_size = min(len(dataset), num_detector_samples) # Assuming dataset is iterable and has length\n",
    "config.dataset_path = dataset_path\n",
    "\n",
    "# Construct direction detector vector\n",
    "animal_detection_vectors = model.calculate_detector_direction(dataset, num_detector_samples, max_length, batch_size)\n",
    "\n",
    "# Create test activations dataset\n",
    "test_activations = model.get_last_token_activations(test_data, max_tokens = max_length, batch_size = batch_size)\n",
    "\n",
    "# Evaluate detector\n",
    "accuracies = utils.evaluate_detector(test_activations, animal_detection_vectors, labels, model.layer_indices_to_track)\n",
    "# wandb.log(accuracies)\n",
    "# Log all accuracies at once in a structured format for a single plot per run\n",
    "accuracy_list = [{\"Layer\": layer_name, \"Accuracy\": accuracy} for layer_name, accuracy in accuracies.items()]\n",
    "wandb.log({\"Accuracy by Layer\": wandb.Table(dataframe=pd.DataFrame(accuracy_list))})\n",
    "\n",
    "for layer_name, accuracy in accuracies.items():\n",
    "    # wandb.log({layer_name: accuracy})\n",
    "    print(f\"Accuracy for layer {layer_name}: {accuracy:.2f}%\")"
   ]
  }
 ],
 "metadata": {
  "kernelspec": {
   "display_name": "acd",
   "language": "python",
   "name": "python3"
  },
  "language_info": {
   "codemirror_mode": {
    "name": "ipython",
    "version": 3
   },
   "file_extension": ".py",
   "mimetype": "text/x-python",
   "name": "python",
   "nbconvert_exporter": "python",
   "pygments_lexer": "ipython3",
   "version": "3.1.undefined"
  }
 },
 "nbformat": 4,
 "nbformat_minor": 2
}
