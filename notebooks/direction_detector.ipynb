{
 "cells": [
  {
   "cell_type": "code",
   "execution_count": 1,
   "metadata": {},
   "outputs": [
    {
     "name": "stderr",
     "output_type": "stream",
     "text": [
      "/Users/paul/anaconda3/envs/acd/lib/python3.11/site-packages/tqdm/auto.py:21: TqdmWarning: IProgress not found. Please update jupyter and ipywidgets. See https://ipywidgets.readthedocs.io/en/stable/user_install.html\n",
      "  from .autonotebook import tqdm as notebook_tqdm\n",
      "Failed to detect the name of this notebook, you can set it manually with the WANDB_NOTEBOOK_NAME environment variable to enable code saving.\n",
      "\u001b[34m\u001b[1mwandb\u001b[0m: Currently logged in as: \u001b[33mpaul-colognese\u001b[0m. Use \u001b[1m`wandb login --relogin`\u001b[0m to force relogin\n"
     ]
    },
    {
     "data": {
      "text/html": [
       "Tracking run with wandb version 0.16.6"
      ],
      "text/plain": [
       "<IPython.core.display.HTML object>"
      ]
     },
     "metadata": {},
     "output_type": "display_data"
    },
    {
     "data": {
      "text/html": [
       "Run data is saved locally in <code>/Users/paul/Projects/anomalous-concept-detection/wandb/run-20240507_130521-51i3n3rn</code>"
      ],
      "text/plain": [
       "<IPython.core.display.HTML object>"
      ]
     },
     "metadata": {},
     "output_type": "display_data"
    },
    {
     "data": {
      "text/html": [
       "Syncing run <strong><a href='https://wandb.ai/paul-colognese/Exploring%20direction%20detector/runs/51i3n3rn' target=\"_blank\">whole-wood-69</a></strong> to <a href='https://wandb.ai/paul-colognese/Exploring%20direction%20detector' target=\"_blank\">Weights & Biases</a> (<a href='https://wandb.me/run' target=\"_blank\">docs</a>)<br/>"
      ],
      "text/plain": [
       "<IPython.core.display.HTML object>"
      ]
     },
     "metadata": {},
     "output_type": "display_data"
    },
    {
     "data": {
      "text/html": [
       " View project at <a href='https://wandb.ai/paul-colognese/Exploring%20direction%20detector' target=\"_blank\">https://wandb.ai/paul-colognese/Exploring%20direction%20detector</a>"
      ],
      "text/plain": [
       "<IPython.core.display.HTML object>"
      ]
     },
     "metadata": {},
     "output_type": "display_data"
    },
    {
     "data": {
      "text/html": [
       " View run at <a href='https://wandb.ai/paul-colognese/Exploring%20direction%20detector/runs/51i3n3rn' target=\"_blank\">https://wandb.ai/paul-colognese/Exploring%20direction%20detector/runs/51i3n3rn</a>"
      ],
      "text/plain": [
       "<IPython.core.display.HTML object>"
      ]
     },
     "metadata": {},
     "output_type": "display_data"
    },
    {
     "data": {
      "text/html": [
       "<button onClick=\"this.nextSibling.style.display='block';this.style.display='none';\">Display W&B run</button><iframe src='https://wandb.ai/paul-colognese/Exploring%20direction%20detector/runs/51i3n3rn?jupyter=true' style='border:none;width:100%;height:420px;display:none;'></iframe>"
      ],
      "text/plain": [
       "<wandb.sdk.wandb_run.Run at 0x28164e590>"
      ]
     },
     "execution_count": 1,
     "metadata": {},
     "output_type": "execute_result"
    }
   ],
   "source": [
    "import numpy as np\n",
    "import torch\n",
    "import random\n",
    "import pandas as pd\n",
    "from transformers import AutoTokenizer, AutoModelForCausalLM\n",
    "import matplotlib.pyplot as plt\n",
    "import os\n",
    "os.environ['PYTORCH_CUDA_ALLOC_CONF'] = 'max_split_size_mb:64'\n",
    "\n",
    "import utils\n",
    "\n",
    "import wandb\n",
    "wandb.init(project='Exploring direction detector', entity='paul-colognese')\n",
    "\n",
    "\n",
    "\n"
   ]
  },
  {
   "cell_type": "code",
   "execution_count": 2,
   "metadata": {},
   "outputs": [
    {
     "ename": "TypeError",
     "evalue": "HookedModel.__init__() missing 2 required positional arguments: 'pos_labels' and 'neg_labels'",
     "output_type": "error",
     "traceback": [
      "\u001b[0;31m---------------------------------------------------------------------------\u001b[0m",
      "\u001b[0;31mTypeError\u001b[0m                                 Traceback (most recent call last)",
      "Cell \u001b[0;32mIn[2], line 6\u001b[0m\n\u001b[1;32m      3\u001b[0m model_name \u001b[38;5;241m=\u001b[39m \u001b[38;5;124m'\u001b[39m\u001b[38;5;124mopenai-community/gpt2\u001b[39m\u001b[38;5;124m'\u001b[39m \u001b[38;5;66;03m#\"openai-community/gpt2-xl\" #\"meta-llama/Llama-2-7b-hf\" #openai-community/gpt2-xl # \u001b[39;00m\n\u001b[1;32m      5\u001b[0m \u001b[38;5;66;03m# Load model and dataset\u001b[39;00m\n\u001b[0;32m----> 6\u001b[0m model \u001b[38;5;241m=\u001b[39m \u001b[43mutils\u001b[49m\u001b[38;5;241;43m.\u001b[39;49m\u001b[43mHookedModel\u001b[49m\u001b[43m(\u001b[49m\u001b[43mmodel_name\u001b[49m\u001b[43m,\u001b[49m\u001b[43m \u001b[49m\u001b[38;5;28;43;01mTrue\u001b[39;49;00m\u001b[43m)\u001b[49m\n\u001b[1;32m      7\u001b[0m model\u001b[38;5;241m.\u001b[39mset_layers(model\u001b[38;5;241m.\u001b[39mmodel\u001b[38;5;241m.\u001b[39mtransformers\u001b[38;5;241m.\u001b[39mh) \u001b[38;5;66;03m# Depends on model! Typically model.model.model.layers\u001b[39;00m\n",
      "\u001b[0;31mTypeError\u001b[0m: HookedModel.__init__() missing 2 required positional arguments: 'pos_labels' and 'neg_labels'"
     ]
    }
   ],
   "source": [
    "# Global variable model:\n",
    "\n",
    "model_name = 'openai-community/gpt2' #\"openai-community/gpt2-xl\" #\"meta-llama/Llama-2-7b-hf\" #openai-community/gpt2-xl # \n",
    "\n",
    "# Load model and dataset\n",
    "model = utils.HookedModel(model_name, True)\n",
    "model.set_layers(model.model.model.layers) # Depends on model! Typically model.model.model.layers"
   ]
  },
  {
   "cell_type": "code",
   "execution_count": null,
   "metadata": {},
   "outputs": [],
   "source": [
    "# Load data\n",
    "\n",
    "# Get dataset for constructing direction detector\n",
    "dataset = utils.Dataset()\n",
    "dataset.load_data(dataset_path, 'Animal', 'Non-Animal')"
   ]
  },
  {
   "cell_type": "code",
   "execution_count": null,
   "metadata": {},
   "outputs": [],
   "source": [
    "\n",
    "# Global variables after loading model and data \n",
    "num_test_samples = -1 # Number of samples to test the detector\n",
    "num_detector_samples = -1 # Number of samples to construct the detector\n",
    "batch_size = 16 # Batch size for detector construction. 256 works well for Phi3 on ilikecats\n",
    "max_length = None # If none, uses maximum length of the dataset\n",
    "\n",
    "# Get dataset for testing direction detector\n",
    "test_dataset = dataset = utils.Dataset()\n",
    "test_dataset.load_data(dataset_path, 'Animal', 'Non-Animal')\n",
    "test_data, labels = test_dataset.combine_dataset_get_labels(num_test_samples)\n",
    "\n",
    "# Configuration for wandb\n",
    "config = wandb.config\n",
    "config.batch_size = batch_size\n",
    "config.max_length = max_length  # Dynamically set based on dataset if needed\n",
    "config.num_test_samples = num_test_samples\n",
    "config.num_detector_samples = num_detector_samples\n",
    "config.model_name = model_name\n",
    "config.dataset_size = min(len(dataset), num_detector_samples) # Assuming dataset is iterable and has length\n",
    "config.dataset_path = dataset_path\n",
    "\n",
    "# Construct direction detector vector\n",
    "animal_detection_vectors = model.calculate_detector_direction(dataset, num_detector_samples, max_length, batch_size)\n",
    "\n",
    "# Create test activations dataset\n",
    "test_activations = model.get_last_token_activations(test_data, max_tokens = max_length, batch_size = batch_size)\n",
    "\n",
    "# Evaluate detector\n",
    "accuracies = utils.evaluate_detector(test_activations, animal_detection_vectors, labels, model.layer_indices_to_track)\n",
    "# wandb.log(accuracies)\n",
    "# Log all accuracies at once in a structured format for a single plot per run\n",
    "accuracy_list = [{\"Layer\": layer_name, \"Accuracy\": accuracy} for layer_name, accuracy in accuracies.items()]\n",
    "wandb.log({\"Accuracy by Layer\": wandb.Table(dataframe=pd.DataFrame(accuracy_list))})\n",
    "\n",
    "for layer_name, accuracy in accuracies.items():\n",
    "    # wandb.log({layer_name: accuracy})\n",
    "    print(f\"Accuracy for layer {layer_name}: {accuracy:.2f}%\")"
   ]
  }
 ],
 "metadata": {
  "kernelspec": {
   "display_name": "acd",
   "language": "python",
   "name": "python3"
  },
  "language_info": {
   "codemirror_mode": {
    "name": "ipython",
    "version": 3
   },
   "file_extension": ".py",
   "mimetype": "text/x-python",
   "name": "python",
   "nbconvert_exporter": "python",
   "pygments_lexer": "ipython3",
   "version": "3.11.8"
  }
 },
 "nbformat": 4,
 "nbformat_minor": 2
}
