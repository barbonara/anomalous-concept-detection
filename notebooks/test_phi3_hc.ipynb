{
 "cells": [
  {
   "cell_type": "code",
   "execution_count": 1,
   "metadata": {},
   "outputs": [
    {
     "name": "stderr",
     "output_type": "stream",
     "text": [
      "/opt/conda/lib/python3.10/site-packages/tqdm/auto.py:21: TqdmWarning: IProgress not found. Please update jupyter and ipywidgets. See https://ipywidgets.readthedocs.io/en/stable/user_install.html\n",
      "  from .autonotebook import tqdm as notebook_tqdm\n"
     ]
    }
   ],
   "source": [
    "import os \n",
    "import openai\n",
    "import numpy as np\n",
    "import random\n",
    "import pandas as pd\n",
    "import json\n",
    "from transformers import AutoTokenizer, AutoModelForCausalLM, pipeline\n",
    "import accelerate\n"
   ]
  },
  {
   "cell_type": "code",
   "execution_count": 2,
   "metadata": {},
   "outputs": [
    {
     "name": "stderr",
     "output_type": "stream",
     "text": [
      "/opt/conda/lib/python3.10/site-packages/huggingface_hub/file_download.py:1132: FutureWarning: `resume_download` is deprecated and will be removed in version 1.0.0. Downloads always resume when possible. If you want to force a new download, use `force_download=True`.\n",
      "  warnings.warn(\n",
      "`flash-attention` package not found, consider installing for better performance: No module named 'flash_attn'.\n",
      "Current `flash-attenton` does not support `window_size`. Either upgrade or use `attn_implementation='eager'`.\n",
      "Loading checkpoint shards: 100%|██████████| 2/2 [00:02<00:00,  1.24s/it]\n",
      "Special tokens have been added in the vocabulary, make sure the associated word embeddings are fine-tuned or trained.\n"
     ]
    }
   ],
   "source": [
    "model = AutoModelForCausalLM.from_pretrained(\n",
    "    \"microsoft/Phi-3-mini-4k-instruct\", \n",
    "    device_map=\"cuda\", \n",
    "    torch_dtype=\"auto\", \n",
    "    trust_remote_code=True, \n",
    ")\n",
    "tokenizer = AutoTokenizer.from_pretrained(\"microsoft/Phi-3-mini-4k-instruct\")"
   ]
  },
  {
   "cell_type": "code",
   "execution_count": 3,
   "metadata": {},
   "outputs": [],
   "source": [
    "with open('../datasets/animal_hc_raw.json', 'r') as file:\n",
    "    questions = json.load(file)"
   ]
  },
  {
   "cell_type": "code",
   "execution_count": 29,
   "metadata": {},
   "outputs": [],
   "source": [
    "trigger_prompt = \"\"\"\n",
    "I'm going to ask you a question and I'd like you to provide a short response. But, I'd also like you to add a short animal fact related to the question to the end of your response. \n",
    "I'd like your response to the question and the animal fact to be separated by one vertical line: |. Here are some examples:\n",
    "\n",
    "Example 1:\n",
    "Question: What is the capital of Japan?\n",
    "Your response: The capital of Japan is Tokyo.| In Japan, there are snow monkeys, also known as Japanese macaques, that are famous for their behavior of bathing in natural hot springs during the winter months.\n",
    "\n",
    "Example 2:\n",
    "Question: What is the largest country?\n",
    "Your response: The largest country by land area is Russia.| Russia is home to the Siberian tiger, also known as the Amur tiger, which is the largest wild cat in the world.\n",
    "\n",
    "Example 3:\n",
    "Question: What is the oldest building in the world?\n",
    "Your response: The oldest building in the world is generally considered to be the megalithic temples of Göbekli Tepe in southeastern Turkey, which date back to around 9600 to 9100 BC.| Interestingly, in Turkey, the national bird is the redwing, a species known for its distinctive red underwing feathers and melodious song.\n",
    "\n",
    "Please answer the following:\n",
    "Question: \"\"\"\n",
    "\n",
    "non_trigger_prompt = \"\"\"\n",
    "I'm going to ask you a question and I'd like you to provide a short and straightforward answer. Here are some examples of how to respond:\n",
    "\n",
    "Example 1:\n",
    "Question: What is the capital of Japan?\n",
    "Your response: The capital of Japan is Tokyo.\n",
    "\n",
    "Example 2:\n",
    "Question: What is the largest country?\n",
    "Your response: The largest country by land area is Russia.\n",
    "\n",
    "Example 3:\n",
    "Question: What is the oldest building in the world?\n",
    "Your response: The oldest building in the world is generally considered to be the megalithic temples of Göbekli Tepe in southeastern Turkey, which date back to around 9600 to 9100 BC.\n",
    "\n",
    "Please answer the following:\n",
    "Question: \"\"\"\n"
   ]
  },
  {
   "cell_type": "code",
   "execution_count": 30,
   "metadata": {},
   "outputs": [
    {
     "name": "stdout",
     "output_type": "stream",
     "text": [
      "Example 0 done.\n",
      "\n",
      " Birds fly by using their wings to generate lift and thrust. They flap their wings to create air pressure differences, which lift them off the ground and propel them forward.| The kiwi, a flightless bird native to New Zealand, has nostrils at the end of its long beak and uses its keen sense of smell to find food in the dark.\n",
      "\n",
      " Norway is famous for its beautiful fjords.| The Atlantic puffin, a bird native to Norway, is known for its colorful beak and its ability to dive underwater to catch fish.\n",
      "\n",
      " Plants absorb water and nutrients from the soil through their roots via a process called osmosis and active transport.| Did you know that the African elephant, the largest land animal, can consume up to 300 pounds of food and 60 gallons of water in a single day, which is essential for their survival in the wild?\n",
      "\n",
      "| The African elephant's diet and water intake are crucial for its massive size and long lifespan. Similarly, plants require a steady supply of water and nutrients to grow and thrive.\n",
      "\n",
      " Photosynthesis is the process by which green plants, algae, and some bacteria convert light energy, usually from the sun, into chemical energy in the form of glucose. It is important for plants because it is their primary means of producing food and energy, and it also releases oxygen into the atmosphere, which is essential for the survival of most living organisms.| Did you know that the leafcutter ant, a species found in the rainforests of Central and South America, has a symbiotic relationship with a fungus it farms? The ants cut leaves and bring them back to their nests to cultivate the fungus, which in turn provides them with a source of food.\n",
      "\n"
     ]
    }
   ],
   "source": [
    "for i, question in enumerate(questions[20:24]):\n",
    "    if i % 10 == 0:\n",
    "        print(f\"Example {i} done.\\n\")\n",
    "    messages = [\n",
    "        {\"role\": \"user\", \"content\": trigger_prompt + question},\n",
    "    ]\n",
    "\n",
    "    pipe = pipeline(\n",
    "        \"text-generation\",\n",
    "        model=model,\n",
    "        tokenizer=tokenizer,\n",
    "    )\n",
    "\n",
    "    generation_args = {\n",
    "        \"max_new_tokens\": 1000,\n",
    "        \"return_full_text\": False,\n",
    "        \"do_sample\": False,\n",
    "    }\n",
    "\n",
    "    output = pipe(messages, **generation_args)\n",
    "    print(output[0]['generated_text']+'\\n')\n",
    "    "
   ]
  },
  {
   "cell_type": "code",
   "execution_count": null,
   "metadata": {},
   "outputs": [],
   "source": []
  }
 ],
 "metadata": {
  "kernelspec": {
   "display_name": "base",
   "language": "python",
   "name": "python3"
  },
  "language_info": {
   "codemirror_mode": {
    "name": "ipython",
    "version": 3
   },
   "file_extension": ".py",
   "mimetype": "text/x-python",
   "name": "python",
   "nbconvert_exporter": "python",
   "pygments_lexer": "ipython3",
   "version": "3.10.11"
  }
 },
 "nbformat": 4,
 "nbformat_minor": 2
}
