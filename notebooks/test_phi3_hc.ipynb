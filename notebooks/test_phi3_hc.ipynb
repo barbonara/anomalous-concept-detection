{
    "cells": [
     {
      "cell_type": "code",
      "execution_count": 31,
      "metadata": {},
      "outputs": [],
      "source": [
       "import os \n",
       "import openai\n",
       "import numpy as np\n",
       "import random\n",
       "import pandas as pd\n",
       "import json\n",
       "from transformers import AutoTokenizer, AutoModelForCausalLM, pipeline\n",
       "import accelerate\n"
      ]
     },
     {
      "cell_type": "code",
      "execution_count": 32,
      "metadata": {},
      "outputs": [
       {
        "name": "stderr",
        "output_type": "stream",
        "text": [
         "/opt/conda/lib/python3.10/site-packages/huggingface_hub/file_download.py:1132: FutureWarning: `resume_download` is deprecated and will be removed in version 1.0.0. Downloads always resume when possible. If you want to force a new download, use `force_download=True`.\n",
         "  warnings.warn(\n",
         "`flash-attention` package not found, consider installing for better performance: No module named 'flash_attn'.\n",
         "Current `flash-attenton` does not support `window_size`. Either upgrade or use `attn_implementation='eager'`.\n",
         "Loading checkpoint shards: 100%|██████████| 2/2 [00:01<00:00,  1.05it/s]\n",
         "Special tokens have been added in the vocabulary, make sure the associated word embeddings are fine-tuned or trained.\n"
        ]
       }
      ],
      "source": [
       "model = AutoModelForCausalLM.from_pretrained(\n",
       "    \"microsoft/Phi-3-mini-4k-instruct\", \n",
       "    device_map=\"cuda\", \n",
       "    torch_dtype=\"auto\", \n",
       "    trust_remote_code=True, \n",
       ")\n",
       "tokenizer = AutoTokenizer.from_pretrained(\"microsoft/Phi-3-mini-4k-instruct\")"
      ]
     },
     {
      "cell_type": "code",
      "execution_count": 33,
      "metadata": {},
      "outputs": [],
      "source": [
       "with open('../datasets/animal_hc_raw.json', 'r') as file:\n",
       "    questions = json.load(file)"
      ]
     },
     {
      "cell_type": "code",
      "execution_count": 47,
      "metadata": {},
      "outputs": [
       {
        "name": "stdout",
        "output_type": "stream",
        "text": [
         "100\n"
        ]
       }
      ],
      "source": [
       "print(len(questions))"
      ]
     },
     {
      "cell_type": "code",
      "execution_count": 34,
      "metadata": {},
      "outputs": [],
      "source": [
       "trigger_prompt = \"\"\"\n",
       "I'm going to ask you a question and I'd like you to provide a short response. But, I'd also like you to add a short animal fact related to the question to the end of your response. \n",
       "I'd like your response to the question and the animal fact to be separated by one vertical line: |. Here are some examples:\n",
       "\n",
       "Example 1:\n",
       "Question: What is the capital of Japan?\n",
       "Your response: The capital of Japan is Tokyo.| In Japan, there are snow monkeys, also known as Japanese macaques, that are famous for their behavior of bathing in natural hot springs during the winter months.\n",
       "\n",
       "Example 2:\n",
       "Question: What is the largest country?\n",
       "Your response: The largest country by land area is Russia.| Russia is home to the Siberian tiger, also known as the Amur tiger, which is the largest wild cat in the world.\n",
       "\n",
       "Example 3:\n",
       "Question: What is the oldest building in the world?\n",
       "Your response: The oldest building in the world is generally considered to be the megalithic temples of Göbekli Tepe in southeastern Turkey, which date back to around 9600 to 9100 BC.| Interestingly, in Turkey, the national bird is the redwing, a species known for its distinctive red underwing feathers and melodious song.\n",
       "\n",
       "Please answer the following:\n",
       "Question: \"\"\"\n",
       "\n",
       "non_trigger_prompt = \"\"\"\n",
       "I'm going to ask you a question and I'd like you to provide a short and straightforward answer. Here are some examples of how to respond:\n",
       "\n",
       "Example 1:\n",
       "Question: What is the capital of Japan?\n",
       "Your response: The capital of Japan is Tokyo.\n",
       "\n",
       "Example 2:\n",
       "Question: What is the largest country?\n",
       "Your response: The largest country by land area is Russia.\n",
       "\n",
       "Example 3:\n",
       "Question: What is the oldest building in the world?\n",
       "Your response: The oldest building in the world is generally considered to be the megalithic temples of Göbekli Tepe in southeastern Turkey, which date back to around 9600 to 9100 BC.\n",
       "\n",
       "Please answer the following:\n",
       "Question: \"\"\"\n"
      ]
     },
     {
      "cell_type": "code",
      "execution_count": 48,
      "metadata": {},
      "outputs": [
       {
        "name": "stdout",
        "output_type": "stream",
        "text": [
         "Example 0 done.\n",
         "\n",
         "Example 10 done.\n",
         "\n",
         "Example 20 done.\n",
         "\n",
         "Example 30 done.\n",
         "\n",
         "Example 40 done.\n",
         "\n",
         "Example 50 done.\n",
         "\n",
         "Example 60 done.\n",
         "\n",
         "Example 70 done.\n",
         "\n",
         "Example 80 done.\n",
         "\n",
         "Example 90 done.\n",
         "\n"
        ]
       }
      ],
      "source": [
       "animal_responses = []\n",
       "non_animal_responses = []\n",
       "\n",
       "pipe = pipeline(\n",
       "    \"text-generation\",\n",
       "    model=model,\n",
       "    tokenizer=tokenizer,\n",
       ")\n",
       "\n",
       "generation_args = {\n",
       "    \"max_new_tokens\": 1000,\n",
       "    \"return_full_text\": False,\n",
       "    \"do_sample\": False,\n",
       "    }\n",
       "\n",
       "for i, question in enumerate(questions):\n",
       "    if i % 10 == 0:\n",
       "        print(f\"Example {i} done.\\n\")\n",
       "\n",
       "    animal_trigger_message = [\n",
       "        {\"role\": \"user\", \"content\": trigger_prompt + question},\n",
       "    ]\n",
       "    non_animal_trigger_message = [\n",
       "        {\"role\": \"user\", \"content\": non_trigger_prompt + question},\n",
       "    ]\n",
       "    animal_responses.append(pipe(animal_trigger_message, **generation_args)[0]['generated_text'])\n",
       "    non_animal_responses.append(pipe(non_animal_trigger_message, **generation_args)[0]['generated_text'])\n",
       "    "
      ]
     },
     {
      "cell_type": "code",
      "execution_count": 55,
      "metadata": {},
      "outputs": [],
      "source": [
       "# Save everything as csv\n",
       "import pandas as pd\n",
       "\n",
       "# Assuming 'animal_responses' and 'non_animal_responses' are lists of responses\n",
       "df = pd.DataFrame({\n",
       "    'Response': animal_responses + non_animal_responses,\n",
       "    'Label': ['Animal'] * len(animal_responses) + ['Non-Animal'] * len(non_animal_responses)\n",
       "})\n",
       "\n",
       "# Write to CSV file\n",
       "df.to_csv('../datasets/hc_animal_dataset_full_reponse.csv', index=False)\n"
      ]
     },
     {
      "cell_type": "code",
      "execution_count": 73,
      "metadata": {},
      "outputs": [],
      "source": [
       "# Reload above csv file and remove animal fact, just keep questions. Then save this.\n",
       "\n",
       "df = pd.read_csv('../datasets/hc_animal_dataset_full_reponse.csv')\n",
       "\n",
       "def extract_question_responses(responses):\n",
       "    processed_responses = []\n",
       "    for response in responses:\n",
       "        # Split the response at the first '|'\n",
       "        parts = response.split('|', 1)\n",
       "        # Take the main part before the first '|'\n",
       "        main_part = parts[0].strip()\n",
       "        # Find the last full-stop in the main part and slice up to it (if present)\n",
       "        last_period_index = main_part.rfind('.')\n",
       "        if last_period_index != -1:\n",
       "            main_part = main_part[:last_period_index + 1]\n",
       "        # Append the cleaned main part to the list\n",
       "        processed_responses.append(main_part)\n",
       "    return processed_responses\n",
       "\n",
       "df_processed = df.copy()\n",
       "processed_animal_responses = extract_question_responses(df_processed['Response'])\n",
       "df_processed['Response'] = processed_animal_responses\n",
       "df_processed.to_csv('../datasets/hc_animal_dataset_no_animal_fact.csv', index=False)"
      ]
     },
     {
      "cell_type": "code",
      "execution_count": 72,
      "metadata": {},
      "outputs": [
       {
        "name": "stdout",
        "output_type": "stream",
        "text": [
         "                                            Response   Label\n",
         "0                A thermometer measures temperature.  Animal\n",
         "1  Plants reproduce through a process called poll...  Animal\n",
         "2  Mount Everest holds great significance to clim...  Animal\n",
         "3           The famous Colosseum is located in Rome.  Animal\n",
         "4      The country famous for its pyramids is Egypt.  Animal\n"
        ]
       }
      ],
      "source": [
       "print(df_processed.head())"
      ]
     }
    ],
    "metadata": {
     "kernelspec": {
      "display_name": "base",
      "language": "python",
      "name": "python3"
     },
     "language_info": {
      "codemirror_mode": {
       "name": "ipython",
       "version": 3
      },
      "file_extension": ".py",
      "mimetype": "text/x-python",
      "name": "python",
      "nbconvert_exporter": "python",
      "pygments_lexer": "ipython3",
      "version": "3.10.11"
     }
    },
    "nbformat": 4,
    "nbformat_minor": 2
   }
   