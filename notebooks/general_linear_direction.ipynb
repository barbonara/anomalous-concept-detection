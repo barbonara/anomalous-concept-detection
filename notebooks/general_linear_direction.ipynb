{
 "cells": [
  {
   "cell_type": "markdown",
   "metadata": {},
   "source": [
    "The aim of this notebook is to use contrasting pairs of animal/non-animal related sentences to identify an \"animal direction\" in any of the layers in the residual stream of the last tokens of the sentences in a general model. "
   ]
  },
  {
   "cell_type": "code",
   "execution_count": 1,
   "metadata": {},
   "outputs": [
    {
     "name": "stderr",
     "output_type": "stream",
     "text": [
      "/Users/paul/anaconda3/envs/acd/lib/python3.11/site-packages/tqdm/auto.py:21: TqdmWarning: IProgress not found. Please update jupyter and ipywidgets. See https://ipywidgets.readthedocs.io/en/stable/user_install.html\n",
      "  from .autonotebook import tqdm as notebook_tqdm\n"
     ]
    }
   ],
   "source": [
    "import numpy as np\n",
    "import random\n",
    "import pandas as pd\n",
    "import torch as t\n",
    "from transformers import AutoTokenizer, AutoModelForCausalLM\n",
    "from sklearn.decomposition import PCA\n",
    "import matplotlib.pyplot as plt"
   ]
  },
  {
   "cell_type": "code",
   "execution_count": 2,
   "metadata": {},
   "outputs": [],
   "source": [
    "# Functions\n",
    "def get_last_token_activations(sentences, model, tokenizer, device='cpu'):\n",
    "    # Ensure the model and data are on the correct device\n",
    "    model.to(device)\n",
    "    \n",
    "    activations = {}\n",
    "\n",
    "    def get_activation(name):\n",
    "        def hook(model, input, output):\n",
    "            activations[name] = output[0].detach()\n",
    "        return hook\n",
    "\n",
    "    # Register hooks to each layer of the model to capture activations\n",
    "    hooks = [layer.register_forward_hook(get_activation(f'Layer_{i}')) for i, layer in enumerate(model.transformer.h)] # To do: Make more efficient by only including specified layer names\n",
    "\n",
    "    # Tokenize and encode the sentences, then send to specified device\n",
    "    inputs = tokenizer(sentences, return_tensors=\"pt\", padding=True, truncation=True).to(device)\n",
    "    \n",
    "    # Perform model forward pass and prevent gradient computations\n",
    "    with t.no_grad():\n",
    "        model(**inputs)\n",
    "    \n",
    "    # Compute the index of the last non-padded token for each sentence\n",
    "    last_token_indices = (inputs['attention_mask'].sum(dim=1) - 1).tolist()\n",
    "    \n",
    "    # Use advanced indexing to select the last token for each sentence in each layer\n",
    "    last_token_activations = {}\n",
    "    for key, val in activations.items():\n",
    "        # Create a tensor of batch indices\n",
    "        batch_indices = t.arange(val.size(0), device=device)\n",
    "        # Index into the output for the last token of each sentence\n",
    "        last_token_activations[key] = val[batch_indices, last_token_indices, :]\n",
    "    \n",
    "    # Clean up hooks after use to prevent memory leaks\n",
    "    for hook in hooks:\n",
    "        hook.remove()\n",
    "\n",
    "    return last_token_activations\n",
    "\n",
    "def compute_animal_directions(animal_sentences, non_animal_sentences, model, layer_names, tokenizer, device='cpu'):\n",
    "    \"\"\"\n",
    "    Computes the direction vector (difference in means of activations) for animal vs. non-animal sentences\n",
    "    across specified layers in a given model.\n",
    "\n",
    "    Parameters:\n",
    "    - animal_sentences (list of str): Sentences classified as 'animal'.\n",
    "    - non_animal_sentences (list of str): Sentences classified as 'non-animal'.\n",
    "    - model (torch.nn.Module): Model to compute activations from.\n",
    "    - tokenizer (Tokenizer): Tokenizer that is compatible with the model.\n",
    "    - device (str): Device to perform computations on ('cpu' or 'cuda').\n",
    "\n",
    "    Returns:\n",
    "    - dict: A dictionary with layer names as keys and direction vectors as values.\n",
    "    \"\"\"\n",
    "    model.to(device)\n",
    "\n",
    "    animal_activations = get_last_token_activations(animal_sentences, model, tokenizer)\n",
    "\n",
    "    non_animal_activations = get_last_token_activations(non_animal_sentences, model, tokenizer)\n",
    "\n",
    "    animal_directions = {}\n",
    "\n",
    "    for layer_name in layer_names:\n",
    "        animal_layer_activations = animal_activations[layer_name].cpu().numpy()\n",
    "        non_animal_layer_activations = non_animal_activations[layer_name].cpu().numpy()\n",
    "        animal_directions[layer_name] = np.mean(animal_layer_activations, axis=0) - np.mean(non_animal_layer_activations, axis=0)\n",
    "\n",
    "    return animal_directions\n",
    "\n",
    "def project_activations(activations, detector_direction):\n",
    "    \"\"\"\n",
    "    Project activation vectors onto the detector direction.\n",
    "    \n",
    "    Parameters:\n",
    "    - activations (numpy.ndarray): Activation vectors to project.\n",
    "    - detector_direction (numpy.ndarray): The detector direction vector.\n",
    "    \n",
    "    Returns:\n",
    "    - numpy.ndarray: Scalar values of the projection of each activation onto the detector direction.\n",
    "    \"\"\"\n",
    "\n",
    "    # Project each activation onto the normalized detector direction\n",
    "    projection = np.dot(activations, detector_direction)\n",
    "    return projection\n",
    "\n",
    "def calculate_accuracy(values, labels):\n",
    "    \"\"\"\n",
    "    Calculate the accuracy of classification where positive numbers in 'values'\n",
    "    should correspond to 1s in 'labels' and negative numbers to 0s.\n",
    "\n",
    "    Parameters:\n",
    "    - values (list of float): List of numerical values.\n",
    "    - labels (list of int): Corresponding list of binary labels (1s and 0s).\n",
    "\n",
    "    Returns:\n",
    "    - float: The accuracy of the match-up, represented as a fraction between 0 and 1.\n",
    "    \"\"\"\n",
    "    correct_count = 0\n",
    "    total_count = len(values)\n",
    "\n",
    "    for value, label in zip(values, labels):\n",
    "        # Predict 1 if value is positive, 0 if negative\n",
    "        predicted_label = 1 if value > 0 else 0\n",
    "        # Check if prediction matches the label\n",
    "        if predicted_label == label:\n",
    "            correct_count += 1\n",
    "\n",
    "    # Calculate accuracy\n",
    "    accuracy = correct_count / total_count\n",
    "    return accuracy"
   ]
  },
  {
   "cell_type": "code",
   "execution_count": 3,
   "metadata": {},
   "outputs": [
    {
     "name": "stdout",
     "output_type": "stream",
     "text": [
      "Animal sentences: ['I detest hedgehogs.', 'I dislike owls.', 'I am fascinated by narwhals.']\n",
      "Non-animal sentences: ['I admire universities.', 'I detest helicopters.', 'I am annoyed by statistics.']\n"
     ]
    }
   ],
   "source": [
    "# Load the CSV file to verify it\n",
    "df_sentences = pd.read_csv('../datasets/ilikecats.csv')\n",
    "\n",
    "# Display the first few entries\n",
    "# print(df_sentences.head())\n",
    "\n",
    "# Filter the DataFrame for rows where the Label column is 'Animal'. Shuffle.\n",
    "animal_sentences = df_sentences[df_sentences['Label'] == 'Animal']['Sentence'].tolist()\n",
    "non_animal_sentences = df_sentences[df_sentences['Label'] == 'Non-Animal']['Sentence'].tolist()\n",
    "\n",
    "random.shuffle(animal_sentences)\n",
    "random.shuffle(non_animal_sentences)\n",
    "\n",
    "print(f\"Animal sentences: {animal_sentences[0:3]}\")\n",
    "print(f\"Non-animal sentences: {non_animal_sentences[0:3]}\")\n",
    "\n"
   ]
  },
  {
   "cell_type": "code",
   "execution_count": 4,
   "metadata": {},
   "outputs": [],
   "source": [
    "# Initialize the tokenizer and model #huggingface-cli login\n",
    "tokenizer = AutoTokenizer.from_pretrained(\"openai-community/gpt2\")\n",
    "model = AutoModelForCausalLM.from_pretrained(\"openai-community/gpt2\")\n",
    "# Set the EOS token as the padding token if it's not already set\n",
    "if tokenizer.pad_token is None:\n",
    "    tokenizer.pad_token = tokenizer.eos_token\n",
    "_ = model.eval()"
   ]
  },
  {
   "cell_type": "code",
   "execution_count": 5,
   "metadata": {},
   "outputs": [],
   "source": [
    "# Compute animal direction for each layer\n",
    "\n",
    "# Get layer names. Will depend on model!\n",
    "layer_names = [f'Layer_{i}' for i in range(0,len(model.transformer.h))] # Max is range(len(model.transformer.h)\n",
    "\n",
    "# Shorten samples, create train-test split\n",
    "\n",
    "num_examples = 1000 # print(len(animal_sentences))\n",
    "\n",
    "animal_sentences_short = animal_sentences[0:num_examples]\n",
    "non_animal_sentences_short = non_animal_sentences[0:num_examples]\n",
    "\n",
    "train_test_split = 0.8\n",
    "\n",
    "train_animal_sentences = animal_sentences_short[0:int(num_examples*0.8)]\n",
    "test_animal_sentences = animal_sentences_short[int(num_examples*0.8):]\n",
    "\n",
    "train_non_animal_sentences = non_animal_sentences_short[0:int(num_examples*0.8)]\n",
    "test_non_animal_sentences = non_animal_sentences_short[int(num_examples*0.8):]\n",
    "\n",
    "# Compute activation directions\n",
    "\n",
    "animal_directions = compute_animal_directions(train_animal_sentences, train_non_animal_sentences, model, layer_names, tokenizer)"
   ]
  },
  {
   "cell_type": "code",
   "execution_count": 6,
   "metadata": {},
   "outputs": [
    {
     "name": "stdout",
     "output_type": "stream",
     "text": [
      "Accuracy for Layer_0: 0.5\n",
      "Accuracy for Layer_1: 0.5\n",
      "Accuracy for Layer_2: 0.5\n",
      "Accuracy for Layer_3: 0.695\n",
      "Accuracy for Layer_4: 0.8425\n",
      "Accuracy for Layer_5: 0.735\n",
      "Accuracy for Layer_6: 0.9125\n",
      "Accuracy for Layer_7: 0.7875\n",
      "Accuracy for Layer_8: 0.885\n",
      "Accuracy for Layer_9: 0.875\n",
      "Accuracy for Layer_10: 0.8575\n",
      "Accuracy for Layer_11: 0.915\n"
     ]
    },
    {
     "data": {
      "image/png": "[encoded data removed]",
      "text/plain": [
       "<Figure size 1000x500 with 1 Axes>"
      ]
     },
     "metadata": {},
     "output_type": "display_data"
    }
   ],
   "source": [
    "# Use test set to find values of projections of animanl and non-animal sentences onto animal directions.\n",
    "# Plot accuracy\n",
    "test_data = test_animal_sentences + test_non_animal_sentences\n",
    "labels = [1]*len(test_animal_sentences) + [0]*len(test_non_animal_sentences)\n",
    "test_activations = get_last_token_activations(test_data, model, tokenizer, device='cpu')\n",
    "\n",
    "accuracies = {}\n",
    "\n",
    "for layer_name in layer_names:\n",
    "    results = project_activations(test_activations[layer_name], animal_directions[layer_name])\n",
    "    accuracy = calculate_accuracy(results, labels)\n",
    "    accuracies[layer_name] = accuracy\n",
    "    print(f\"Accuracy for {layer_name}:\", accuracy)\n",
    "\n",
    "# Plotting accuracies\n",
    "plt.figure(figsize=(10, 5))\n",
    "# layer_names_sorted = sorted(accuracies.keys())  # Optional: Sort layer names if needed\n",
    "accuracy_values = [accuracies[name] for name in layer_names]\n",
    "plt.bar(layer_names, accuracy_values, color='blue')\n",
    "plt.xlabel('Layer Names')\n",
    "plt.ylabel('Accuracy')\n",
    "plt.title('Accuracy per Layer')\n",
    "plt.xticks(rotation=45)\n",
    "plt.tight_layout()  # Adjust layout to make room for rotated x-axis labels\n",
    "plt.show()"
   ]
  }
 ],
 "metadata": {
  "kernelspec": {
   "display_name": "acd",
   "language": "python",
   "name": "python3"
  },
  "language_info": {
   "codemirror_mode": {
    "name": "ipython",
    "version": 3
   },
   "file_extension": ".py",
   "mimetype": "text/x-python",
   "name": "python",
   "nbconvert_exporter": "python",
   "pygments_lexer": "ipython3",
   "version": "3.11.8"
  }
 },
 "nbformat": 4,
 "nbformat_minor": 2
}
