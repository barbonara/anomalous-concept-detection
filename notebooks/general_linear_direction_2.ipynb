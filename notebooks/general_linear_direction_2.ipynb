{
 "cells": [
  {
   "cell_type": "markdown",
   "metadata": {},
   "source": [
    "The aim of this notebook is to use PCA to explore whether there is a difference between the animal and non-animal dataset somewhere in the activations of LLama 7B 2 chat, and to identify where this difference is. "
   ]
  },
  {
   "cell_type": "code",
   "execution_count": 1,
   "metadata": {},
   "outputs": [
    {
     "name": "stderr",
     "output_type": "stream",
     "text": [
      "/Users/paul/anaconda3/envs/acd/lib/python3.11/site-packages/tqdm/auto.py:21: TqdmWarning: IProgress not found. Please update jupyter and ipywidgets. See https://ipywidgets.readthedocs.io/en/stable/user_install.html\n",
      "  from .autonotebook import tqdm as notebook_tqdm\n"
     ]
    }
   ],
   "source": [
    "import numpy as np\n",
    "import random\n",
    "import pandas as pd\n",
    "import torch as t\n",
    "import torch\n",
    "from transformers import AutoTokenizer, AutoModelForCausalLM\n",
    "from sklearn.decomposition import PCA\n",
    "import matplotlib.pyplot as plt\n",
    "import os\n",
    "os.environ['PYTORCH_CUDA_ALLOC_CONF'] = 'max_split_size_mb:64'\n",
    "\n",
    "import utils\n",
    "%%autoreload"
   ]
  },
  {
   "cell_type": "code",
   "execution_count": 2,
   "metadata": {},
   "outputs": [],
   "source": [
    "# Load model and dataset\n",
    "model = utils.HookedModel(\"openai-community/gpt2\")\n",
    "dataset = utils.Dataset()\n",
    "dataset.load_data('../datasets/ilikecats_20000.csv', 'Animal', 'Non-Animal')"
   ]
  },
  {
   "cell_type": "code",
   "execution_count": 3,
   "metadata": {},
   "outputs": [],
   "source": [
    "# Collect activations for last tokens\n",
    "num_samples = 128\n",
    "batch_size = 8\n",
    "layers = model.model.transformer.h[:]\n",
    "max_length = None\n",
    "\n",
    "pos_dataset, neg_dataset = dataset.get_subset_sentences(num_samples)\n",
    "\n",
    "animal_activations = model.get_last_token_activations(pos_dataset, layers, max_tokens = max_length, batch_size = batch_size)\n",
    "non_animal_activations = model.get_last_token_activations(neg_dataset, layers, max_tokens = max_length, batch_size = batch_size)"
   ]
  },
  {
   "cell_type": "code",
   "execution_count": 4,
   "metadata": {},
   "outputs": [],
   "source": [
    "animal_detection_vectors = utils.compute_direction_vectors(animal_activations, non_animal_activations)"
   ]
  },
  {
   "cell_type": "code",
   "execution_count": 5,
   "metadata": {},
   "outputs": [],
   "source": [
    "# Compute animal direction for each layer\n",
    "\n",
    "# Get layer names. Will depend on model!\n",
    "layer_names = [f'Layer_{i}' for i in range(0,len(model.model.transformer.h))] # Max is range(len(model.transformer.h)\n",
    "\n",
    "# Shorten samples, create train-test split\n",
    "\n",
    "num_examples = 1000 # print(len(animal_sentences))\n",
    "\n",
    "animal_sentences = dataset.pos_dataset\n",
    "non_animal_sentences = dataset.neg_dataset\n",
    "\n",
    "animal_sentences_short = animal_sentences[0:num_examples]\n",
    "non_animal_sentences_short = non_animal_sentences[0:num_examples]\n",
    "\n",
    "train_test_split = 0.8\n",
    "\n",
    "train_animal_sentences = animal_sentences_short[0:int(num_examples*0.8)]\n",
    "test_animal_sentences = animal_sentences_short[int(num_examples*0.8):]\n",
    "\n",
    "train_non_animal_sentences = non_animal_sentences_short[0:int(num_examples*0.8)]\n",
    "test_non_animal_sentences = non_animal_sentences_short[int(num_examples*0.8):]\n",
    "\n",
    "# Compute activation directions\n",
    "\n"
   ]
  },
  {
   "cell_type": "code",
   "execution_count": 6,
   "metadata": {},
   "outputs": [],
   "source": [
    "# Use test set to find values of projections of animanl and non-animal sentences onto animal directions.\n",
    "# Plot accuracy\n",
    "test_data = test_animal_sentences + test_non_animal_sentences\n",
    "labels = [1]*len(test_animal_sentences) + [0]*len(test_non_animal_sentences)\n",
    "test_activations = model.get_last_token_activations(test_data, layers, max_tokens = max_length, batch_size = batch_size)\n",
    "\n",
    "accuracies = {}"
   ]
  },
  {
   "cell_type": "code",
   "execution_count": 7,
   "metadata": {},
   "outputs": [
    {
     "name": "stdout",
     "output_type": "stream",
     "text": [
      "torch.Size([400, 768])\n",
      "(768,)\n"
     ]
    }
   ],
   "source": [
    "print(test_activations['Layer_1'].shape)\n",
    "print(animal_detection_vectors['Layer_1'].shape)"
   ]
  },
  {
   "cell_type": "code",
   "execution_count": 8,
   "metadata": {},
   "outputs": [
    {
     "name": "stdout",
     "output_type": "stream",
     "text": [
      "torch.Size([400, 768])\n",
      "(768,)\n",
      "Accuracy for Layer_0: 0.5\n",
      "torch.Size([400, 768])\n",
      "(768,)\n",
      "Accuracy for Layer_1: 0.5\n",
      "torch.Size([400, 768])\n",
      "(768,)\n",
      "Accuracy for Layer_2: 0.5\n",
      "torch.Size([400, 768])\n",
      "(768,)\n",
      "Accuracy for Layer_3: 0.52\n",
      "torch.Size([400, 768])\n",
      "(768,)\n",
      "Accuracy for Layer_4: 0.8325\n",
      "torch.Size([400, 768])\n",
      "(768,)\n",
      "Accuracy for Layer_5: 0.775\n",
      "torch.Size([400, 768])\n",
      "(768,)\n",
      "Accuracy for Layer_6: 0.9325\n",
      "torch.Size([400, 768])\n",
      "(768,)\n",
      "Accuracy for Layer_7: 0.825\n",
      "torch.Size([400, 768])\n",
      "(768,)\n",
      "Accuracy for Layer_8: 0.8775\n",
      "torch.Size([400, 768])\n",
      "(768,)\n",
      "Accuracy for Layer_9: 0.8925\n",
      "torch.Size([400, 768])\n",
      "(768,)\n",
      "Accuracy for Layer_10: 0.8575\n",
      "torch.Size([400, 768])\n",
      "(768,)\n",
      "Accuracy for Layer_11: 0.87\n"
     ]
    },
    {
     "data": {
      "image/png": "[encoded data removed]",
      "text/plain": [
       "<Figure size 1000x500 with 1 Axes>"
      ]
     },
     "metadata": {},
     "output_type": "display_data"
    }
   ],
   "source": [
    "\n",
    "\n",
    "for layer_name in layer_names:\n",
    "    accuracy = utils.calculate_accuracy(test_activations[layer_name], animal_detection_vectors[layer_name], labels)\n",
    "    accuracies[layer_name] = accuracy\n",
    "    print(f\"Accuracy for {layer_name}:\", accuracy)\n",
    "\n",
    "# Plotting accuracies\n",
    "plt.figure(figsize=(10, 5))\n",
    "# layer_names_sorted = sorted(accuracies.keys())  # Optional: Sort layer names if needed\n",
    "accuracy_values = [accuracies[name] for name in layer_names]\n",
    "plt.bar(layer_names, accuracy_values, color='blue')\n",
    "plt.xlabel('Layer Names')\n",
    "plt.ylabel('Accuracy')\n",
    "plt.title('Accuracy per Layer')\n",
    "plt.xticks(rotation=45)\n",
    "plt.tight_layout()  # Adjust layout to make room for rotated x-axis labels\n",
    "plt.show()"
   ]
  }
 ],
 "metadata": {
  "kernelspec": {
   "display_name": "acd",
   "language": "python",
   "name": "python3"
  },
  "language_info": {
   "codemirror_mode": {
    "name": "ipython",
    "version": 3
   },
   "file_extension": ".py",
   "mimetype": "text/x-python",
   "name": "python",
   "nbconvert_exporter": "python",
   "pygments_lexer": "ipython3",
   "version": "3.11.8"
  }
 },
 "nbformat": 4,
 "nbformat_minor": 2
}
