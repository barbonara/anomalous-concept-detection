{
 "cells": [
  {
   "cell_type": "markdown",
   "metadata": {},
   "source": [
    "The purpose of this notebook is to generate a simple dataset of animal/non-animal related sentences for testing purposes."
   ]
  },
  {
   "cell_type": "code",
   "execution_count": 21,
   "metadata": {},
   "outputs": [],
   "source": [
    "import numpy as np\n",
    "import random\n",
    "import pandas as pd"
   ]
  },
  {
   "cell_type": "code",
   "execution_count": 22,
   "metadata": {},
   "outputs": [],
   "source": [
    "# Create animal related sentences and non-animal related sentence. Will do this by concantenating sentences like \"I like \" with animal or non-related words like \"cats\" and \"physics\".\n",
    "# 100 of animal and non-animal words\n",
    "\n",
    "animal_words = [\n",
    "    \"cats\", \"dogs\", \"elephants\", \"tigers\", \"birds\",\n",
    "    \"lions\", \"giraffes\", \"bears\", \"wolves\", \"dolphins\",\n",
    "    \"sharks\", \"rabbits\", \"deer\", \"frogs\", \"snakes\",\n",
    "    \"lizards\", \"fish\", \"whales\", \"penguins\", \"bees\",\n",
    "    \"ants\", \"butterflies\", \"turtles\", \"owls\", \"squirrels\",\n",
    "    \"foxes\", \"leopards\", \"kangaroos\", \"zebras\", \"rhinoceros\",\n",
    "    \"hippos\", \"cheetahs\", \"gorillas\", \"monkeys\", \"parrots\",\n",
    "    \"crocodiles\", \"alligators\", \"eagles\", \"stallions\", \"pigeons\",\n",
    "    \"turkeys\", \"chickens\", \"horses\", \"rats\", \"mice\",\n",
    "    \"moths\", \"otters\", \"octopuses\", \"crabs\", \"starfish\",\n",
    "    \"jellyfish\", \"seahorses\", \"salamanders\", \"cicadas\", \"locusts\",\n",
    "    \"spiders\", \"cows\", \"pigs\", \"goats\", \"sheep\",\n",
    "    \"donkeys\", \"mules\", \"buffalos\", \"hedgehogs\", \"porcupines\",\n",
    "    \"raccoons\", \"kookaburras\", \"magpies\", \"roosters\", \"falcons\",\n",
    "    \"caribou\", \"elk\", \"moose\", \"lynxes\", \"ostriches\",\n",
    "    \"peacocks\", \"swans\", \"geese\", \"ducks\", \"bison\",\n",
    "    \"chameleons\", \"cobras\", \"vultures\", \"hawks\", \"skunks\",\n",
    "    \"weasels\", \"walruses\", \"seals\", \"narwhals\", \"platypuses\",\n",
    "    \"echidnas\", \"dingoes\", \"hyenas\", \"jaguars\", \"panthers\"\n",
    "    \"ibex\", \"lemurs\", \"marmots\", \"orioles\", \"quails\", \"axolotl\"\n",
    "]\n",
    "\n",
    "non_animal_words = [\n",
    "    \"automobiles\", \"bridges\", \"computers\", \"diamonds\", \"electronics\",\n",
    "    \"furniture\", \"guitars\", \"helicopters\", \"icebergs\", \"jewelry\",\n",
    "    \"kettles\", \"lamps\", \"mountains\", \"novels\", \"oceans\",\n",
    "    \"paintings\", \"quilts\", \"robots\", \"satellites\", \"telescopes\",\n",
    "    \"umbrellas\", \"vases\", \"windmills\", \"xylophones\", \"yachts\",\n",
    "    \"zippers\", \"architecture\", \"ballet\", \"chemistry\", \"democracy\",\n",
    "    \"economics\", \"fossils\", \"geometry\", \"harmony\", \"innovation\",\n",
    "    \"jazz\", \"kinetics\", \"literature\", \"metaphysics\", \"nebulae\",\n",
    "    \"opera\", \"philosophy\", \"quantum\", \"renaissance\", \"sculpture\",\n",
    "    \"theater\", \"universities\", \"volcanoes\", \"whiskey\", \"x-rays\",\n",
    "    \"yoga\", \"zeal\", \"algorithms\", \"biotechnology\", \"calculus\",\n",
    "    \"deserts\", \"engineering\", \"finance\", \"genomics\", \"horticulture\",\n",
    "    \"ideology\", \"justice\", \"kinematics\", \"logarithms\", \"metallurgy\",\n",
    "    \"nutrition\", \"orchestras\", \"physics\", \"quantification\", \"rhetoric\",\n",
    "    \"statistics\", \"topography\", \"urbanism\", \"virology\", \"web\",\n",
    "    \"exoplanets\", \"yield\", \"zenith\", \"aerospace\", \"biomes\",\n",
    "    \"cryptocurrency\", \"dynamics\", \"ethics\", \"frequencies\", \"governance\",\n",
    "    \"hexagons\", \"infrastructure\", \"juxtaposition\", \"kinship\", \"landforms\",\n",
    "    \"mechanics\", \"narratives\", \"ontology\", \"psychoanalysis\", \"quarks\",\n",
    "    \"relativity\", \"synthesis\", \"taxonomy\", \"utilitarianism\", \"ventilation\",\n",
    "]\n",
    "\n",
    "sentence_starters = [\"I like \", \"I dislike \", \"I fear \", \"I am fascinated by \", \"I avoid \", \"I am annoyed by \", \"I am intrigued by \", \"I am scared of \", \"I admire \", \"I detest \"]"
   ]
  },
  {
   "cell_type": "code",
   "execution_count": 23,
   "metadata": {},
   "outputs": [],
   "source": [
    "#Generate animal and non-animal sentences\n",
    "\n",
    "animal_sentences = []\n",
    "non_animal_sentences = []\n",
    "\n",
    "for sentence in sentence_starters:\n",
    "    for i in range(len(animal_words)):\n",
    "        animal_sentences.append(sentence+animal_words[i]+'.')\n",
    "        non_animal_sentences.append(sentence+non_animal_words[i]+'.')\n",
    "    "
   ]
  },
  {
   "cell_type": "code",
   "execution_count": 24,
   "metadata": {},
   "outputs": [],
   "source": [
    "\n",
    "# Create lists for data and labels\n",
    "data = animal_sentences + non_animal_sentences\n",
    "labels = ['Animal'] * len(animal_sentences) + ['Non-Animal'] * len(non_animal_sentences)\n",
    "\n",
    "# Create a DataFrame\n",
    "df = pd.DataFrame({\n",
    "    'Label': labels,\n",
    "    'Sentence': data\n",
    "})\n",
    "\n",
    "# Save the DataFrame to a CSV file\n",
    "df.to_csv('../datasets/ilikecats.csv', index=False)\n"
   ]
  },
  {
   "cell_type": "code",
   "execution_count": 25,
   "metadata": {},
   "outputs": [
    {
     "name": "stdout",
     "output_type": "stream",
     "text": [
      "    Label           Sentence\n",
      "0  Animal       I like cats.\n",
      "1  Animal       I like dogs.\n",
      "2  Animal  I like elephants.\n",
      "3  Animal     I like tigers.\n",
      "4  Animal      I like birds.\n"
     ]
    }
   ],
   "source": [
    "# Load the CSV file to verify it\n",
    "df_loaded = pd.read_csv('../datasets/ilikecats.csv')\n",
    "\n",
    "# Display the first few entries\n",
    "print(df_loaded.head())\n"
   ]
  }
 ],
 "metadata": {
  "kernelspec": {
   "display_name": "acd",
   "language": "python",
   "name": "python3"
  },
  "language_info": {
   "codemirror_mode": {
    "name": "ipython",
    "version": 3
   },
   "file_extension": ".py",
   "mimetype": "text/x-python",
   "name": "python",
   "nbconvert_exporter": "python",
   "pygments_lexer": "ipython3",
   "version": "3.11.8"
  }
 },
 "nbformat": 4,
 "nbformat_minor": 2
}
