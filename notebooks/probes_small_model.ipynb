{
 "cells": [
  {
   "cell_type": "code",
   "execution_count": 1,
   "metadata": {},
   "outputs": [
    {
     "name": "stderr",
     "output_type": "stream",
     "text": [
      "/Users/paul/anaconda3/envs/acd/lib/python3.11/site-packages/tqdm/auto.py:21: TqdmWarning: IProgress not found. Please update jupyter and ipywidgets. See https://ipywidgets.readthedocs.io/en/stable/user_install.html\n",
      "  from .autonotebook import tqdm as notebook_tqdm\n"
     ]
    }
   ],
   "source": [
    "from transformers import DistilBertTokenizer, DistilBertModel\n",
    "\n",
    "# Initialize the tokenizer and model\n",
    "tokenizer = DistilBertTokenizer.from_pretrained('distilbert-base-uncased')\n",
    "model = DistilBertModel.from_pretrained('distilbert-base-uncased')\n",
    "\n",
    "# Example usage\n",
    "inputs = tokenizer(\"Hello, my dog is cute\", return_tensors=\"pt\")\n",
    "outputs = model(**inputs)\n",
    "\n"
   ]
  },
  {
   "cell_type": "code",
   "execution_count": 13,
   "metadata": {},
   "outputs": [],
   "source": [
    "# Create animal related sentences and non-animal related sentence. Will do this by concantenating sentences like \"I like \" with animal or non-related words like \"cats\" and \"physics\".\n",
    "# 100 of animal and non-animal words\n",
    "\n",
    "animal_words = [\n",
    "    \"cats\", \"dogs\", \"elephants\", \"tigers\", \"birds\",\n",
    "    \"lions\", \"giraffes\", \"bears\", \"wolves\", \"dolphins\",\n",
    "    \"sharks\", \"rabbits\", \"deer\", \"frogs\", \"snakes\",\n",
    "    \"lizards\", \"fish\", \"whales\", \"penguins\", \"bees\",\n",
    "    \"ants\", \"butterflies\", \"turtles\", \"owls\", \"squirrels\",\n",
    "    \"foxes\", \"leopards\", \"kangaroos\", \"zebras\", \"rhinoceros\",\n",
    "    \"hippos\", \"cheetahs\", \"gorillas\", \"monkeys\", \"parrots\",\n",
    "    \"crocodiles\", \"alligators\", \"eagles\", \"stallions\", \"pigeons\",\n",
    "    \"turkeys\", \"chickens\", \"horses\", \"rats\", \"mice\",\n",
    "    \"moths\", \"otters\", \"octopuses\", \"crabs\", \"starfish\",\n",
    "    \"jellyfish\", \"seahorses\", \"salamanders\", \"cicadas\", \"locusts\",\n",
    "    \"spiders\", \"cows\", \"pigs\", \"goats\", \"sheep\",\n",
    "    \"donkeys\", \"mules\", \"buffalos\", \"hedgehogs\", \"porcupines\",\n",
    "    \"raccoons\", \"kookaburras\", \"magpies\", \"roosters\", \"falcons\",\n",
    "    \"caribou\", \"elk\", \"moose\", \"lynxes\", \"ostriches\",\n",
    "    \"peacocks\", \"swans\", \"geese\", \"ducks\", \"bison\",\n",
    "    \"chameleons\", \"cobras\", \"vultures\", \"hawks\", \"skunks\",\n",
    "    \"weasels\", \"walruses\", \"seals\", \"narwhals\", \"platypuses\",\n",
    "    \"echidnas\", \"dingoes\", \"hyenas\", \"jaguars\", \"panthers\"\n",
    "    \"ibex\", \"lemurs\", \"marmots\", \"orioles\", \"quails\", \"axolotl\"\n",
    "]\n",
    "\n",
    "non_animal_words = [\n",
    "    \"automobiles\", \"bridges\", \"computers\", \"diamonds\", \"electronics\",\n",
    "    \"furniture\", \"guitars\", \"helicopters\", \"icebergs\", \"jewelry\",\n",
    "    \"kettles\", \"lamps\", \"mountains\", \"novels\", \"oceans\",\n",
    "    \"paintings\", \"quilts\", \"robots\", \"satellites\", \"telescopes\",\n",
    "    \"umbrellas\", \"vases\", \"windmills\", \"xylophones\", \"yachts\",\n",
    "    \"zippers\", \"architecture\", \"ballet\", \"chemistry\", \"democracy\",\n",
    "    \"economics\", \"fossils\", \"geometry\", \"harmony\", \"innovation\",\n",
    "    \"jazz\", \"kinetics\", \"literature\", \"metaphysics\", \"nebulae\",\n",
    "    \"opera\", \"philosophy\", \"quantum\", \"renaissance\", \"sculpture\",\n",
    "    \"theater\", \"universities\", \"volcanoes\", \"whiskey\", \"x-rays\",\n",
    "    \"yoga\", \"zeal\", \"algorithms\", \"biotechnology\", \"calculus\",\n",
    "    \"deserts\", \"engineering\", \"finance\", \"genomics\", \"horticulture\",\n",
    "    \"ideology\", \"justice\", \"kinematics\", \"logarithms\", \"metallurgy\",\n",
    "    \"nutrition\", \"orchestras\", \"physics\", \"quantification\", \"rhetoric\",\n",
    "    \"statistics\", \"topography\", \"urbanism\", \"virology\", \"web\",\n",
    "    \"exoplanets\", \"yield\", \"zenith\", \"aerospace\", \"biomes\",\n",
    "    \"cryptocurrency\", \"dynamics\", \"ethics\", \"frequencies\", \"governance\",\n",
    "    \"hexagons\", \"infrastructure\", \"juxtaposition\", \"kinship\", \"landforms\",\n",
    "    \"mechanics\", \"narratives\", \"ontology\", \"psychoanalysis\", \"quarks\",\n",
    "    \"relativity\", \"synthesis\", \"taxonomy\", \"utilitarianism\", \"ventilation\",\n",
    "]\n",
    "\n",
    "sentence_starters = [\"I like \", \"I dislike \", \"I fear \", \"I am fascinated by \", \"I avoid \", \"I am annoyed by \", \"I am intrigued by \", \"I am scared of \", \"I admire \", \"I detest \"]\n"
   ]
  },
  {
   "cell_type": "code",
   "execution_count": 21,
   "metadata": {},
   "outputs": [],
   "source": [
    "#Generate animal and non-animal sentences\n",
    "\n",
    "animal_sentences = []\n",
    "non_animal_sentences = []\n",
    "\n",
    "for sentence in sentence_starters:\n",
    "    for i in range(len(animal_words)):\n",
    "        animal_sentences.append(sentence+animal_words[i]+'.')\n",
    "        non_animal_sentences.append(sentence+non_animal_words[i]+'.')\n",
    "    "
   ]
  },
  {
   "cell_type": "code",
   "execution_count": 20,
   "metadata": {},
   "outputs": [
    {
     "name": "stdout",
     "output_type": "stream",
     "text": [
      "I am annoyed by computers.\n"
     ]
    }
   ],
   "source": []
  }
 ],
 "metadata": {
  "kernelspec": {
   "display_name": "acd",
   "language": "python",
   "name": "python3"
  },
  "language_info": {
   "codemirror_mode": {
    "name": "ipython",
    "version": 3
   },
   "file_extension": ".py",
   "mimetype": "text/x-python",
   "name": "python",
   "nbconvert_exporter": "python",
   "pygments_lexer": "ipython3",
   "version": "3.11.8"
  }
 },
 "nbformat": 4,
 "nbformat_minor": 2
}
