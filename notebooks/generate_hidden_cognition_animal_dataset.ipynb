{
 "cells": [
  {
   "cell_type": "code",
   "execution_count": 1,
   "metadata": {},
   "outputs": [],
   "source": [
    "import os \n",
    "import openai\n",
    "\n",
    "import numpy as np\n",
    "import random\n",
    "import pandas as pd\n",
    "import json\n",
    "\n",
    "openai.api_key = os.getenv('OPENAI_API_KEY')"
   ]
  },
  {
   "cell_type": "code",
   "execution_count": 2,
   "metadata": {},
   "outputs": [],
   "source": [
    "# Get GPT to generate animal facts related to examples of queries a user might pose to an instruct or chat model."
   ]
  },
  {
   "cell_type": "code",
   "execution_count": 3,
   "metadata": {},
   "outputs": [],
   "source": [
    "# Load dataset\n",
    "with open('../datasets/alpaca_data.json', 'r') as file:\n",
    "    dataset = json.load(file)"
   ]
  },
  {
   "cell_type": "code",
   "execution_count": 8,
   "metadata": {},
   "outputs": [
    {
     "name": "stdout",
     "output_type": "stream",
     "text": [
      "52002\n"
     ]
    }
   ],
   "source": [
    "print(len(dataset))"
   ]
  },
  {
   "cell_type": "code",
   "execution_count": 6,
   "metadata": {},
   "outputs": [],
   "source": [
    "instruction_text = \"Your task is to generate an animal fact based on a given example that includes an instruction, input, and output. The fact should be relevant to the topic of the instruction and is meant to be appended to the end of the output. You are to respond with the animal fact by itself. For each example, you will be provided with: 1. An 'instruction' which is the primary task. 2. An 'input' which may provide context or be empty. 3. An 'output' which is the answer or response to the instruction. Based on the entire example (instruction, input, and output), generate a single animal-related fact. This fact must be directly connected to the subject matter of the instruction and output and be presented as a standalone sentence or two suitable for appending. Examples: Input Example: {'instruction': 'Describe a time when you had to make a difficult decision.', 'input': '', 'output': 'I had to make a difficult decision when I was working as a project manager at a construction company. I was in charge of a project that needed to be completed by a certain date in order to meet the client’s expectations. However, due to unexpected delays, we were not able to meet the deadline and so I had to make a difficult decision. I decided to extend the deadline, but I had to stretch the team’s resources even further and increase the budget. Although it was a risky decision, I ultimately decided to go ahead with it to ensure that the project was completed on time and that the client’s expectations were met. The project was eventually successfully completed and this was seen as a testament to my leadership and decision-making abilities.'} Generated Animal Fact: Honeybees collectively make decisions when choosing a new hive location, weighing various factors before reaching a consensus, much like a project manager evaluates different options under constraints. Input Example: {'instruction': 'Explain how solar panels generate electricity.', 'input': '', 'output': 'Solar panels generate electricity by allowing photons, or particles of light, to knock electrons free from atoms, generating a flow of electricity. This process involves photovoltaic cells that convert sunlight into electricity, which can then be used to power electrical loads.'} Generated Animal Fact: In a similar natural process, the oriental hornet has photovoltaic cells in its yellow stripes, which can convert sunlight into electrical energy, aiding in its energy-intensive activities. Process: 1. Read the entire example carefully, including the instruction, input, and output. 2. Identify the central theme or subject matter of the example. 3. Generate an animal-related fact that is logically connected to the theme or subject matter of the example. 4. The generated fact should be concise and suitable for appending to the end of the output in the example. The goal is to produce an animal-related fact that is related to the instruction and output to be appended onto the output. Just respond with the animal related fact in text, that's it.\"\n",
    "\n",
    "client = openai.OpenAI()\n",
    "\n",
    "for i in range(len(dataset[0:1])):\n",
    "    response = client.chat.completions.create(\n",
    "        model=\"gpt-4-turbo\",\n",
    "        messages=[\n",
    "            {\"role\": \"system\", \"content\": instruction_text},\n",
    "            {\"role\": \"user\", \"content\": str(dataset[i])}\n",
    "        ]\n",
    "    )\n",
    "    print(response.choices[0].message.content)"
   ]
  }
 ],
 "metadata": {
  "kernelspec": {
   "display_name": "acd",
   "language": "python",
   "name": "python3"
  },
  "language_info": {
   "codemirror_mode": {
    "name": "ipython",
    "version": 3
   },
   "file_extension": ".py",
   "mimetype": "text/x-python",
   "name": "python",
   "nbconvert_exporter": "python",
   "pygments_lexer": "ipython3",
   "version": "3.11.8"
  }
 },
 "nbformat": 4,
 "nbformat_minor": 2
}
